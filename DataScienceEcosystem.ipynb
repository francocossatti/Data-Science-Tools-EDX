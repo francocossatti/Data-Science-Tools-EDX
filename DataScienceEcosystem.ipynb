{
 "cells": [
  {
   "cell_type": "markdown",
   "id": "41343691-b25d-415d-b275-a8111f7cb1f9",
   "metadata": {
    "tags": []
   },
   "source": [
    "# Data Science Tools and Ecosystem"
   ]
  },
  {
   "cell_type": "markdown",
   "id": "f45d6dbf-ea12-437d-873f-2a8f3b7aa8ce",
   "metadata": {
    "tags": []
   },
   "source": [
    "## In this notebook, Data Science Tools and Ecosystem are summarized."
   ]
  },
  {
   "cell_type": "markdown",
   "id": "4eae123b-cee6-4fad-8903-54e6866cfddc",
   "metadata": {},
   "source": [
    "## Objectives:\n",
    "\n",
    "- List popular languages for Data Science.\n",
    "- Introduce key open-source tools for Data Science development.\n",
    "- Demonstrate basic arithmetic operations in Jupyter Notebooks.\n",
    "- Practice creating markdown cells in Jupyter Notebooks.\n",
    "- Showcase how to execute code cells and view outputs in Jupyter Notebooks."
   ]
  },
  {
   "cell_type": "markdown",
   "id": "6452e142-76ba-4187-9218-75ba565e01b2",
   "metadata": {},
   "source": [
    "## Some of the popular languages that Data Scientists use are:\n",
    "1. Python\n",
    "2. Julia\n",
    "3. R\n",
    "4. Java"
   ]
  },
  {
   "cell_type": "markdown",
   "id": "d451f1a8-d24a-48b2-8e52-d16ae0e0bd43",
   "metadata": {
    "tags": []
   },
   "source": [
    "## Some of the commonly used libraries used by Data Scientists include:\n",
    "1. NumPy\n",
    "2. Matplotlib\n",
    "3. Pandas\n",
    "4. SciPy"
   ]
  },
  {
   "cell_type": "markdown",
   "id": "d0efe610-18d6-41ec-b2ce-12b88c0fe50f",
   "metadata": {},
   "source": [
    "| Data Science Tools |\n",
    "| ------------------ |\n",
    "| RStudio            |\n",
    "| Jupyter Notebooks  |\n",
    "| Apache Zeppelin    |"
   ]
  },
  {
   "cell_type": "markdown",
   "id": "49171061-1237-4ff6-88e3-9f85ee284ca6",
   "metadata": {},
   "source": [
    "### Below are a few examples of evaluating arithmetic expressions in Python\n",
    "#### This is a simple arithmetic expression to multiply then add integers."
   ]
  },
  {
   "cell_type": "code",
   "execution_count": null,
   "id": "d34c12e5-f25f-4c47-b61f-d6438940c28a",
   "metadata": {
    "tags": []
   },
   "outputs": [],
   "source": [
    "(3 * 4) + 5"
   ]
  },
  {
   "cell_type": "markdown",
   "id": "8a5943be-c550-4972-b4d1-fe9a617dae0d",
   "metadata": {},
   "source": [
    "#### This will convert 200 minutes to hours by dividing by 60.\n"
   ]
  },
  {
   "cell_type": "code",
   "execution_count": null,
   "id": "c8484143-1af8-45ea-b3da-4d80bcaf1af7",
   "metadata": {
    "tags": []
   },
   "outputs": [],
   "source": [
    "200 / 60"
   ]
  },
  {
   "cell_type": "markdown",
   "id": "731ac5f3-600c-46d0-9a70-bec2befbf194",
   "metadata": {},
   "source": [
    "## Author\n",
    "\n",
    "Franco Cossatti"
   ]
  },
  {
   "cell_type": "code",
   "execution_count": null,
   "id": "c74a572b-5add-452f-aee6-aab44a8266e3",
   "metadata": {},
   "outputs": [],
   "source": []
  }
 ],
 "metadata": {
  "kernelspec": {
   "display_name": "Python",
   "language": "python",
   "name": "conda-env-python-py"
  },
  "language_info": {
   "codemirror_mode": {
    "name": "ipython",
    "version": 3
   },
   "file_extension": ".py",
   "mimetype": "text/x-python",
   "name": "python",
   "nbconvert_exporter": "python",
   "pygments_lexer": "ipython3",
   "version": "3.7.12"
  }
 },
 "nbformat": 4,
 "nbformat_minor": 5
}
